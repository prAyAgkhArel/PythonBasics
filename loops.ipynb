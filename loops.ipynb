{
 "cells": [
  {
   "cell_type": "code",
   "execution_count": 7,
   "id": "13362b6a-05f7-4cce-bee3-0a91faf67749",
   "metadata": {},
   "outputs": [
    {
     "name": "stdout",
     "output_type": "stream",
     "text": [
      "apple\n",
      "applepie\n",
      "['apple', 'mango', 'pear']\n",
      "mango\n",
      "mangopie\n",
      "['apple', 'mango', 'pear']\n",
      "pear\n",
      "pearpie\n",
      "['apple', 'mango', 'pear']\n",
      "['apple', 'mango', 'pear']\n"
     ]
    }
   ],
   "source": [
    "#simple for loop syntax:\n",
    "fruits=[\"apple\",\"mango\",\"pear\"]\n",
    "for fruit in fruits:\n",
    "    print(fruit)      #prints fruit three times assigning fruit as apple , mango and pear\n",
    "    print(fruit + \"pie\")\n",
    "    print(fruits)\n",
    "print(fruits)"
   ]
  },
  {
   "cell_type": "code",
   "execution_count": 9,
   "id": "07a7f823-5f6d-4f21-96d2-ed3338c4fa9e",
   "metadata": {},
   "outputs": [
    {
     "name": "stdin",
     "output_type": "stream",
     "text": [
      "Enter heights separated by spaces 1 2 3\n"
     ]
    },
    {
     "name": "stdout",
     "output_type": "stream",
     "text": [
      "total height=6\n",
      "umber of students=3\n",
      "average height=2.0\n"
     ]
    },
    {
     "name": "stdin",
     "output_type": "stream",
     "text": [
      "Enter heights separated by spaces 1 2 3\n"
     ]
    },
    {
     "name": "stdout",
     "output_type": "stream",
     "text": [
      "Total height=6\n",
      "Number of students=3\n",
      "Average height=2.0\n"
     ]
    }
   ],
   "source": [
    "#sum() and len() function of list using loop\n",
    "\n",
    "heights=input(\"Enter heights separated by spaces\").split()\n",
    "total_height=0\n",
    "\n",
    "for height in heights:\n",
    "    total_height+=int(height)\n",
    "print(f\"Total height={total_height}\")\n",
    "\n",
    "number_of_students=0\n",
    "for students in heights:\n",
    "    number_of_students+=1\n",
    "print(f\"Number of students={number_of_students}\")\n",
    "\n",
    "average_number=total_height/number_of_students\n",
    "print(f\"Average height={average_number}\")\n",
    "\n",
    "\n",
    "\n",
    "\n"
   ]
  },
  {
   "cell_type": "code",
   "execution_count": 15,
   "id": "56fd1098-727e-4e37-adb4-1169cc3c25cd",
   "metadata": {
    "tags": []
   },
   "outputs": [
    {
     "name": "stdin",
     "output_type": "stream",
     "text": [
      "Enter students scores separating them with spaces 1 2 3\n"
     ]
    },
    {
     "name": "stdout",
     "output_type": "stream",
     "text": [
      "The highest score in class is: 3\n"
     ]
    }
   ],
   "source": [
    "#max() function in list by loop\n",
    "\n",
    "student_scores=input(\"Enter students scores separating them with spaces\").split()\n",
    "\n",
    "maximum=0\n",
    "for score in student_scores:\n",
    "    if int(score)>maximum:\n",
    "        maximum=int(score)\n",
    "print(f\"The highest score in class is: {maximum}\")"
   ]
  },
  {
   "cell_type": "code",
   "execution_count": 17,
   "id": "dcfce8d1-934d-4acb-a424-ddf56d5f4e63",
   "metadata": {
    "tags": []
   },
   "outputs": [
    {
     "name": "stdin",
     "output_type": "stream",
     "text": [
      "Enter the last even number 10\n"
     ]
    },
    {
     "name": "stdout",
     "output_type": "stream",
     "text": [
      "sum=30\n"
     ]
    }
   ],
   "source": [
    "#calculating sum of even numbers till specified\n",
    "\n",
    "\n",
    "last_num=int(input(\"Enter the last even number not exceeding 1000\"))\n",
    "total=0\n",
    "for n in range(2,last_num+1,2):\n",
    "    total+=n\n",
    "print(f\"sum={total}\")\n"
   ]
  },
  {
   "cell_type": "code",
   "execution_count": 20,
   "id": "d0154ffb-2c84-4b9f-ad00-295a9dae8d36",
   "metadata": {
    "tags": []
   },
   "outputs": [
    {
     "name": "stdout",
     "output_type": "stream",
     "text": [
      "1\n",
      "\n",
      "2\n",
      "\n",
      "Fizz\n",
      "\n",
      "4\n",
      "\n",
      "Buzz\n",
      "\n",
      "Fizz\n",
      "\n",
      "7\n",
      "\n",
      "8\n",
      "\n",
      "Fizz\n",
      "\n",
      "Buzz\n",
      "\n",
      "11\n",
      "\n",
      "Fizz\n",
      "\n",
      "13\n",
      "\n",
      "14\n",
      "\n",
      "FizzBuzz\n",
      "\n",
      "16\n",
      "\n",
      "17\n",
      "\n",
      "Fizz\n",
      "\n",
      "19\n",
      "\n",
      "Buzz\n",
      "\n",
      "Fizz\n",
      "\n",
      "22\n",
      "\n",
      "23\n",
      "\n",
      "Fizz\n",
      "\n",
      "Buzz\n",
      "\n",
      "26\n",
      "\n",
      "Fizz\n",
      "\n",
      "28\n",
      "\n",
      "29\n",
      "\n",
      "FizzBuzz\n",
      "\n"
     ]
    }
   ],
   "source": [
    "#fizzbuzz \n",
    "target=30\n",
    "for n in range(1,target+1,1):\n",
    "    if n%3==0 and n%5==0:\n",
    "        print(\"FizzBuzz\\n\")\n",
    "    elif n%3==0:\n",
    "        print(\"Fizz\\n\")\n",
    "    elif n%5==0:\n",
    "        print(\"Buzz\\n\")\n",
    "    else:\n",
    "        print(f\"{n}\\n\")\n"
   ]
  },
  {
   "cell_type": "code",
   "execution_count": 44,
   "id": "6e904f54-df6a-443c-ade5-a3de7a2de521",
   "metadata": {
    "tags": []
   },
   "outputs": [
    {
     "name": "stdout",
     "output_type": "stream",
     "text": [
      "Welcome to the PyPassword Generator!\n"
     ]
    },
    {
     "name": "stdin",
     "output_type": "stream",
     "text": [
      "How many letters would you like in your password?\n",
      " 2\n",
      "How many symbols would you like?\n",
      " 2\n",
      "How many numbers would you like?\n",
      " 2\n"
     ]
    },
    {
     "name": "stdout",
     "output_type": "stream",
     "text": [
      "Your password is:uV##53\n",
      "['5', '#', 'u', '3', '#', 'V']\n",
      "Your hard password is:5#u3#V\n"
     ]
    }
   ],
   "source": [
    "#Password Generator Project\n",
    "\n",
    "import random\n",
    "letters = ['a', 'b', 'c', 'd', 'e', 'f', 'g', 'h', 'i', 'j', 'k', 'l', 'm', 'n', 'o', 'p', 'q', 'r', 's', 't', 'u', 'v', 'w', 'x', 'y', 'z', 'A', 'B', 'C', 'D', 'E', 'F', 'G', 'H', 'I', 'J', 'K', 'L', 'M', 'N', 'O', 'P', 'Q', 'R', 'S', 'T', 'U', 'V', 'W', 'X', 'Y', 'Z']\n",
    "numbers = ['0', '1', '2', '3', '4', '5', '6', '7', '8', '9']\n",
    "symbols = ['!', '#', '$', '%', '&', '(', ')', '*', '+']\n",
    "\n",
    "print(\"Welcome to the PyPassword Generator!\")\n",
    "nr_letters= int(input(\"How many letters would you like in your password?\\n\")) \n",
    "nr_symbols = int(input(f\"How many symbols would you like?\\n\"))\n",
    "nr_numbers = int(input(f\"How many numbers would you like?\\n\"))\n",
    "\n",
    "# Eazy Level - Order not randomised:\n",
    "# e.g. 4 letter, 2 symbol, 2 number = JduE&!91\n",
    "\n",
    "p_letters=\"\"\n",
    "for i in range(1,nr_letters+1):\n",
    "    random_index=random.randint(0,len(letters)-1)\n",
    "    p_letters+=letters[random_index]\n",
    " \n",
    "\n",
    "p_numbers=\"\"\n",
    "for i in range(1,nr_numbers+1):\n",
    "    p_numbers+=random.choice(numbers)\n",
    "\n",
    "p_symbols=\"\"\n",
    "for i in range(1,nr_symbols+1):\n",
    "    p_symbols+=random.choice(symbols)\n",
    "\n",
    "password=p_letters+p_symbols+p_numbers\n",
    "\n",
    "print(f\"Your password is:{password}\")\n",
    "\n",
    "\n",
    "\n",
    "#Hard Level - Order of characters randomised:\n",
    "#e.g. 4 letter, 2 symbol, 2 number = g^2jk8&P\n",
    "\n",
    "new_list=[]\n",
    "for i in range(0, len(password)):\n",
    "    new_list.append(password[i])\n",
    "random.shuffle(new_list)\n",
    "\n",
    "# for i in range(len(password)):\n",
    "#     random_index1=random.randint(0,len(password)-1)\n",
    "#     random_index2=random.randint(0,len(password)-1)\n",
    "#     temp=new_list[random_index1]\n",
    "#     new_list[random_index1]=new_list[random_index2]\n",
    "#     new_list[random_index2]=temp\n",
    "\n",
    "hard_pass=\"\"\n",
    "print(new_list)\n",
    "for char in new_list:\n",
    "    hard_pass+=char\n",
    "print(f\"Your hard password is:{hard_pass}\")\n",
    "    \n",
    "\n",
    "    \n"
   ]
  },
  {
   "cell_type": "code",
   "execution_count": null,
   "id": "e207aaea-f9b6-444a-8775-7cf03a7b98b7",
   "metadata": {},
   "outputs": [],
   "source": []
  }
 ],
 "metadata": {
  "kernelspec": {
   "display_name": "Python 3 (ipykernel)",
   "language": "python",
   "name": "python3"
  },
  "language_info": {
   "codemirror_mode": {
    "name": "ipython",
    "version": 3
   },
   "file_extension": ".py",
   "mimetype": "text/x-python",
   "name": "python",
   "nbconvert_exporter": "python",
   "pygments_lexer": "ipython3",
   "version": "3.11.5"
  }
 },
 "nbformat": 4,
 "nbformat_minor": 5
}
