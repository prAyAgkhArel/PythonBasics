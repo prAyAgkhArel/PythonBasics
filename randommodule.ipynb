{
 "cells": [
  {
   "cell_type": "code",
   "execution_count": 6,
   "id": "6d7affa0-e40f-435f-a764-d6b38e4d9108",
   "metadata": {
    "tags": []
   },
   "outputs": [
    {
     "name": "stdout",
     "output_type": "stream",
     "text": [
      "8\n",
      "0.4633175939877361\n",
      "\n",
      "\n",
      "\n",
      "\n",
      "5\n",
      "5\n",
      "6\n",
      "6\n",
      "4\n",
      "\n",
      "\n",
      "0.3582598820744367\n",
      "0.9295227684488321\n",
      "0.7274879320162969\n",
      "0.8271862003366856\n",
      "0.0941676324123315\n",
      "\n",
      "\n",
      "8\n",
      "2\n",
      "8\n",
      "8\n",
      "8\n"
     ]
    },
    {
     "ename": "ModuleNotFoundError",
     "evalue": "No module named 'my_module'",
     "output_type": "error",
     "traceback": [
      "\u001b[1;31m---------------------------------------------------------------------------\u001b[0m",
      "\u001b[1;31mModuleNotFoundError\u001b[0m                       Traceback (most recent call last)",
      "Cell \u001b[1;32mIn[6], line 35\u001b[0m\n\u001b[0;32m     32\u001b[0m     p\u001b[38;5;241m=\u001b[39mrandom\u001b[38;5;241m.\u001b[39mchoice(t)\n\u001b[0;32m     33\u001b[0m     \u001b[38;5;28mprint\u001b[39m(p)\n\u001b[1;32m---> 35\u001b[0m \u001b[38;5;28;01mimport\u001b[39;00m \u001b[38;5;21;01mmy_module\u001b[39;00m\n\u001b[0;32m     36\u001b[0m \u001b[38;5;28mprint\u001b[39m(pi)\n",
      "\u001b[1;31mModuleNotFoundError\u001b[0m: No module named 'my_module'"
     ]
    }
   ],
   "source": [
    "#Module is the part of program that has different functions defined to \n",
    "#carryout specific task which is special part of program.\n",
    "\n",
    "\n",
    "import random\n",
    "\n",
    "\n",
    "random_integer=random.randint(1,10)\n",
    "print(random_integer)\n",
    "\n",
    "random_float=random.random()\n",
    "#produces random float between 0 and 1 excluding 1\n",
    "print(random_float)\n",
    "print(\"\\n\")\n",
    "\n",
    "random_float=random.random()*5\n",
    "#produces random float between 0 and 5 excluding 5\n",
    "print(\"\\n\")\n",
    "\n",
    "for y in range(5):\n",
    "    y=random.randint(4,8)  #randint function returns random number between 4 and 8\n",
    "    print(y)\n",
    "print(\"\\n\")\n",
    "    \n",
    "for x in range(5):   #loop 12 times\n",
    "    x=random.random() #using \"random\" object module to call random function that gives undeterministic results\n",
    "    print(x)\n",
    "print(\"\\n\")\n",
    "\n",
    "t=[2,5,8]\n",
    "for p in range(5):\n",
    "    p=random.choice(t)\n",
    "    print(p)\n",
    "\n",
    "import my_module\n",
    "print(pi)\n",
    "   \n",
    "\n"
   ]
  },
  {
   "cell_type": "code",
   "execution_count": 14,
   "id": "083a4cfe-e642-49b0-8290-9d0d6914df0b",
   "metadata": {
    "tags": []
   },
   "outputs": [
    {
     "name": "stdout",
     "output_type": "stream",
     "text": [
      "Tails\n"
     ]
    }
   ],
   "source": [
    "#coin toss random heads or tails\n",
    "import random\n",
    "random_number=random.randint(0,1)\n",
    "if random_number==0:\n",
    "    print(\"Heads\")\n",
    "else:\n",
    "    print(\"Tails\")\n"
   ]
  },
  {
   "cell_type": "code",
   "execution_count": null,
   "id": "4a402904-3417-4a27-b9d5-2a635f4681a5",
   "metadata": {},
   "outputs": [],
   "source": []
  }
 ],
 "metadata": {
  "kernelspec": {
   "display_name": "Python 3 (ipykernel)",
   "language": "python",
   "name": "python3"
  },
  "language_info": {
   "codemirror_mode": {
    "name": "ipython",
    "version": 3
   },
   "file_extension": ".py",
   "mimetype": "text/x-python",
   "name": "python",
   "nbconvert_exporter": "python",
   "pygments_lexer": "ipython3",
   "version": "3.11.5"
  }
 },
 "nbformat": 4,
 "nbformat_minor": 5
}
