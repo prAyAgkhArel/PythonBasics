{
 "cells": [
  {
   "cell_type": "code",
   "execution_count": 25,
   "id": "eb632977-c0d1-434d-adea-c7d2edc6c4c3",
   "metadata": {
    "tags": []
   },
   "outputs": [
    {
     "name": "stdin",
     "output_type": "stream",
     "text": [
      "I am a!, give me a number\n",
      " 5\n"
     ]
    },
    {
     "name": "stdout",
     "output_type": "stream",
     "text": [
      "Thanks for a positive number\n"
     ]
    },
    {
     "name": "stdin",
     "output_type": "stream",
     "text": [
      "What do you want to give to x\n",
      " 6\n"
     ]
    },
    {
     "name": "stdout",
     "output_type": "stream",
     "text": [
      "x is other than 1 and 2\n"
     ]
    },
    {
     "name": "stdin",
     "output_type": "stream",
     "text": [
      "Give me two values separated by spaces:\n",
      " 5 4\n"
     ]
    },
    {
     "name": "stdout",
     "output_type": "stream",
     "text": [
      "First is greater\n"
     ]
    }
   ],
   "source": [
    "#simple if ladder with use of pass\n",
    "\n",
    "a=input('I am a!, give me a number:\\n')\n",
    "if a =='0':                                   #if(a==0) in case of c\n",
    "    pass                                     #if nothing to be executed, we may write pass!\n",
    "elif a<'0':\n",
    "    print('Sorry, I cannot be negative')\n",
    "else:\n",
    "    print('Thanks for a positive number')\n",
    "\n",
    "\n",
    "   \n",
    "\n",
    "x=input('What do you want to give to x?\\n')\n",
    "if x =='1':\n",
    "    print('wow, x is 1')\n",
    "elif x =='2':\n",
    "    print('wow, x is 2')\n",
    "else:\n",
    "    print('x is other than 1 and 2')\n",
    "\n",
    "    \n",
    "    \n",
    "#nested conditionals \n",
    "p,q=input('Give me two values separated by spaces:\\n').split() #.split() is used here to split the value obtained into\n",
    "                                          #two for multiple assignment.\n",
    "\n",
    "p=float(p)                       #converted into floats  for numerical comparisions\n",
    "q=float(q)                       #because p and q are strings as input() function returns string\n",
    "                       \n",
    "if p==q:\n",
    "    print(\"Values are same\")\n",
    "else:\n",
    "    if p>q:\n",
    "        print(\"First is greater\")\n",
    "    else:\n",
    "        print(\"Second is greater\")\n",
    "        "
   ]
  },
  {
   "cell_type": "code",
   "execution_count": 3,
   "id": "07ba7ac3-f652-4294-bb13-8b3482c0f665",
   "metadata": {},
   "outputs": [
    {
     "name": "stdout",
     "output_type": "stream",
     "text": [
      "Enter height in metres and weight in kilogram\n"
     ]
    },
    {
     "name": "stdin",
     "output_type": "stream",
     "text": [
      " 1.76784\n",
      " 47\n"
     ]
    },
    {
     "name": "stdout",
     "output_type": "stream",
     "text": [
      "Your BMI is 15.038757122037957. You are underweight.\n"
     ]
    }
   ],
   "source": [
    "#BMI CALCULATOR\n",
    "print(\"Enter height in metres and weight in kilogram\")\n",
    "height=float(input())\n",
    "weight=int(input())\n",
    "BMI=weight/height**2\n",
    "if BMI<=18.5:\n",
    "    print(f\"Your BMI is {BMI}. You are underweight.\")\n",
    "elif BMI<=24.9:\n",
    "    print(f\"Your BMI i\n",
    "          s {BMI}. You have normal weight.\")\n",
    "elif BMI<=29.9:\n",
    "    print(f\"Your BMI is {BMI}. You are overweight.\")\n",
    "else:\n",
    "    print(f\"Your BMI is {BMI}. You have obesity\")\n",
    "    if BMI<=34.9:\n",
    "        print(f\"Your BMI is {BMI}. You have obesity class 1.\")\n",
    "    elif BMI<=39.9:\n",
    "        print(f\"Your BMI is {BMI}. You have obesity class 2.\")\n",
    "    else:\n",
    "        print(f\"Your BMI is {BMI}. You have obesity class 3.\")"
   ]
  },
  {
   "cell_type": "code",
   "execution_count": 5,
   "id": "ab41da2f-674f-4fac-8614-7696a6e0b81b",
   "metadata": {
    "tags": []
   },
   "outputs": [
    {
     "name": "stdout",
     "output_type": "stream",
     "text": [
      "Enter a year\n"
     ]
    },
    {
     "name": "stdin",
     "output_type": "stream",
     "text": [
      " 2100\n"
     ]
    },
    {
     "name": "stdout",
     "output_type": "stream",
     "text": [
      "2100 is not a leap year\n"
     ]
    }
   ],
   "source": [
    "#Leap year\n",
    "#Any year that is divisible by 4 is a leap year.\n",
    "#However, years that are divisible by 100 are not leap years, unless they are also divisible by 400.\n",
    "\n",
    "print(\"Enter a year\")\n",
    "year=int(input())\n",
    "if year%4==0:\n",
    "    if year%100==0:\n",
    "        if year%400==0:\n",
    "            print(f\"{year} is a leap year\")\n",
    "        else:\n",
    "             print(f\"{year} is not a leap year\")\n",
    "    else:\n",
    "         print(f\"{year} is a leap year\")\n",
    "else:\n",
    "     print(f\"{year} is not a leap year\")\n",
    "                \n"
   ]
  },
  {
   "cell_type": "code",
   "execution_count": 1,
   "id": "5bf98ee3-4a14-4523-a076-ba4b25a021c1",
   "metadata": {
    "tags": []
   },
   "outputs": [
    {
     "name": "stdin",
     "output_type": "stream",
     "text": [
      "Which size pizza do you want?large,Medium or small sized?? L,M or S? M\n",
      "Do you want to add peeper? Y or N? N\n",
      "Do you want to add cheese? Y or N? Y\n"
     ]
    },
    {
     "name": "stdout",
     "output_type": "stream",
     "text": [
      "YOUR final bill amount is $21.\n"
     ]
    }
   ],
   "source": [
    "#Automatic pizza bill calculator takes input L,M or S for large, medium and small pizza\n",
    "#and gives final bill as per customer wants to add peeper and cheese in pizza or not.\n",
    "\n",
    "size=input(\"Which size pizza do you want?large,Medium or small sized?? L,M or S?\")\n",
    "if size=='S':\n",
    "    bill =15\n",
    "elif size=='M':\n",
    "    bill=20\n",
    "else:\n",
    "    bill=25\n",
    "peeper=input(\"Do you want to add peeper? Y or N?\")\n",
    "if peeper=='Y':\n",
    "    if bill==15:\n",
    "        bill+=2\n",
    "    else:\n",
    "        bill+=3\n",
    "cheese=input(\"Do you want to add cheese? Y or N?\")\n",
    "if cheese=='Y':\n",
    "    bill+=1\n",
    "print(f\"YOUR final bill amount is ${bill}.\")    \n",
    "\n",
    "    \n",
    "      \n",
    "\n",
    "\n",
    "           "
   ]
  },
  {
   "cell_type": "code",
   "execution_count": 9,
   "id": "4f2a21a3-d67b-431d-ac99-6ec878b466a6",
   "metadata": {
    "tags": []
   },
   "outputs": [
    {
     "name": "stdin",
     "output_type": "stream",
     "text": [
      "Your's name.. Prayag\n",
      "Your's crush name.. dontknow\n"
     ]
    },
    {
     "name": "stdout",
     "output_type": "stream",
     "text": [
      "Your score is 22.\n"
     ]
    }
   ],
   "source": [
    "# LOVE CALCULATOR: Takes name of the couples as input and gives output in percentage how \n",
    "# much true their love is. The program calculates total number of letters from the word \"TRUE\"\n",
    "# in the inputs for one digit and from the word \"LOVE\" in the inputs for other digit.\n",
    "\n",
    "name1=input(\"Your's name..\")\n",
    "name2=input(\"Your's crush name..\")\n",
    "name=name1+name2\n",
    "\n",
    "lower_name=name.lower()                       #transforms in lowercase\n",
    "\n",
    "t=lower_name.count(\"t\")                       #counts letter t in lower_name\n",
    "r=lower_name.count(\"r\")\n",
    "u=lower_name.count(\"u\")\n",
    "e=lower_name.count(\"e\")\n",
    "\n",
    "first_digit= t+r+u+e\n",
    "\n",
    "l=lower_name.count(\"l\")\n",
    "o=lower_name.count(\"o\")\n",
    "v=lower_name.count(\"v\")\n",
    "e=lower_name.count(\"e\")\n",
    "\n",
    "second_digit= l+o+v+e\n",
    "\n",
    "result=int(str(first_digit)+str(second_digit))\n",
    "\n",
    "if result<10 or result>90:\n",
    "    print(f\"Your love is {result} , you go together like coke and mentos\")\n",
    "elif result>40 and result<50:\n",
    "    print(f\"Your score is {result}, you go alright together.\")\n",
    "else:  \n",
    "    print(f\"Your score is {result}.\")"
   ]
  },
  {
   "cell_type": "code",
   "execution_count": null,
   "id": "e30764e9-6d72-473a-8816-26b4042ab478",
   "metadata": {},
   "outputs": [],
   "source": []
  },
  {
   "cell_type": "code",
   "execution_count": 17,
   "id": "bac49759-9eb7-4250-b448-c310afcf039e",
   "metadata": {
    "tags": []
   },
   "outputs": [
    {
     "name": "stdout",
     "output_type": "stream",
     "text": [
      "                                                                         \n",
      "    *******************************************************************************\n",
      "          |                   |                  |                     |\n",
      " _________|________________.=\"\"_;=.______________|_____________________|_______\n",
      "|                   |  ,-\"_,=\"\"     `\"=.|                  |\n",
      "|___________________|__\"=._o`\"-._        `\"=.______________|___________________\n",
      "          |                `\"=._o`\"=._      _`\"=._                     |\n",
      " _________|_____________________:=._o \"=._.\"_.-=\"'\"=.__________________|_______\n",
      "|                   |    __.--\" , ; `\"=._o.\" ,-\"\"\"-._ \".   |\n",
      "|___________________|_._\"  ,. .` ` `` ,  `\"-._\"-._   \". '__|___________________\n",
      "          |           |o`\"=._` , \"` `; .\". ,  \"-._\"-._; ;              |\n",
      " _________|___________| ;`-.o`\"=._; .\" ` '`.\"\\` . \"-._ /_______________|_______\n",
      "|                   | |o;    `\"-.o`\"=._``  '` \" ,__.--o;   |\n",
      "|___________________|_| ;     (#) `-.o `\"=.`_.--\"_o.-; ;___|___________________\n",
      "____/______/______/___|o;._    \"      `\".o|o_.--\"    ;o;____/______/______/____\n",
      "/______/______/______/_\"=._o--._        ; | ;        ; ;/______/______/______/_\n",
      "____/______/______/______/__\"=._o--._   ;o|o;     _._;o;____/______/______/____\n",
      "/______/______/______/______/____\"=._o._; | ;_.--\"o.--\"_/______/______/______/_\n",
      "____/______/______/______/______/_____\"=.o|o_.--\"\"___/______/______/______/____\n",
      "/______/______/______/______/______/______/______/______/______/______/[TomekK]\n",
      "*******************************************************************************\n",
      "\n",
      "WElcome to treasure island\n",
      "Your mission is to find the treasure\n"
     ]
    },
    {
     "name": "stdin",
     "output_type": "stream",
     "text": [
      "You're at the crossroad. Where do you want to go? Type \"left\" or \"right\".\n",
      "  left\n",
      "You've come to a lake. There is an island in the middle of lake. Type \"wait\" to wait for boat or \"swim\" if you want to swim.\n",
      " wait\n",
      "There are three doors red, yellow and blue. Which one you want to go through? Type \"red\" \"yellow\" or \"blue\".\n",
      " yellow\n"
     ]
    },
    {
     "name": "stdout",
     "output_type": "stream",
     "text": [
      "Congratulations! You found treasure.\n"
     ]
    }
   ],
   "source": [
    "#FIND TREASURE\n",
    "\n",
    "print('''                                                                         \n",
    "    *******************************************************************************\n",
    "          |                   |                  |                     |\n",
    " _________|________________.=\"\"_;=.______________|_____________________|_______\n",
    "|                   |  ,-\"_,=\"\"     `\"=.|                  |\n",
    "|___________________|__\"=._o`\"-._        `\"=.______________|___________________\n",
    "          |                `\"=._o`\"=._      _`\"=._                     |\n",
    " _________|_____________________:=._o \"=._.\"_.-=\"'\"=.__________________|_______\n",
    "|                   |    __.--\" , ; `\"=._o.\" ,-\"\"\"-._ \".   |\n",
    "|___________________|_._\"  ,. .` ` `` ,  `\"-._\"-._   \". '__|___________________\n",
    "          |           |o`\"=._` , \"` `; .\". ,  \"-._\"-._; ;              |\n",
    " _________|___________| ;`-.o`\"=._; .\" ` '`.\"\\` . \"-._ /_______________|_______\n",
    "|                   | |o;    `\"-.o`\"=._``  '` \" ,__.--o;   |\n",
    "|___________________|_| ;     (#) `-.o `\"=.`_.--\"_o.-; ;___|___________________\n",
    "____/______/______/___|o;._    \"      `\".o|o_.--\"    ;o;____/______/______/____\n",
    "/______/______/______/_\"=._o--._        ; | ;        ; ;/______/______/______/_\n",
    "____/______/______/______/__\"=._o--._   ;o|o;     _._;o;____/______/______/____\n",
    "/______/______/______/______/____\"=._o._; | ;_.--\"o.--\"_/______/______/______/_\n",
    "____/______/______/______/______/_____\"=.o|o_.--\"\"___/______/______/______/____\n",
    "/______/______/______/______/______/______/______/______/______/______/[TomekK]\n",
    "*******************************************************************************\n",
    "''') #use of  three sinlge quotes for multiple line print in print statement\n",
    "\n",
    "print(\"WElcome to treasure island\")\n",
    "print(\"Your mission is to find the treasure\")\n",
    "\n",
    "choice1= input('You\\'re at the crossroad. Where do you want to go? Type \"left\" or \"right\".\\n ').lower() \n",
    "#converts input string into lowercase\n",
    "\n",
    "if choice1==\"left\":\n",
    "    #continue in game\n",
    "    choice2=input(\"You've come to a lake. There is an island in the middle of lake. Type \\\"wait\\\" to wait for boat or \\\"swim\\\" if you want to swim.\\n\").lower()\n",
    "    if choice2==\"wait\":\n",
    "        #continue in game\n",
    "        choice3=input('There are three doors red, yellow and blue. Which one you want to go through? Type \"red\" \"yellow\" or \"blue\".\\n').lower()\n",
    "        if choice3==\"yellow\":\n",
    "            print(\"Congratulations! You found treasure.\")\n",
    "        elif choice3==\"red\":\n",
    "            print(\"You are lost inside. Game over!\")\n",
    "        else:\n",
    "            print(\"You are eaten by tiger. Game over!\")\n",
    "    else:\n",
    "        print(\"Game over!, You are eaten by shark.\")\n",
    "    \n",
    "else:\n",
    "    print(\"Game over! You fell into a hole\")\n",
    "\n",
    "\n",
    "\n",
    "\n",
    "\n"
   ]
  }
 ],
 "metadata": {
  "kernelspec": {
   "display_name": "Python 3 (ipykernel)",
   "language": "python",
   "name": "python3"
  },
  "language_info": {
   "codemirror_mode": {
    "name": "ipython",
    "version": 3
   },
   "file_extension": ".py",
   "mimetype": "text/x-python",
   "name": "python",
   "nbconvert_exporter": "python",
   "pygments_lexer": "ipython3",
   "version": "3.11.5"
  },
  "toc-autonumbering": true,
  "toc-showtags": true
 },
 "nbformat": 4,
 "nbformat_minor": 5
}
