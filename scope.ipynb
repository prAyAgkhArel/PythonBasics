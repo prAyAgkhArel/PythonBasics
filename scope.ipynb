{
 "cells": [
  {
   "cell_type": "code",
   "execution_count": null,
   "id": "bbe89ded-4000-486d-ad54-75504707200b",
   "metadata": {},
   "outputs": [],
   "source": [
    "#Three types: global, local, block :python doesnot have block scope\n",
    "#block scope means scope of the namespace(anything declared by ourselves) is only inside a block\n",
    "#A block can be if/else staement, for/while loops, functions and so on.\n",
    "#However it has local scope i.e namespaces declared inside functions are not acessible out of the function.\n",
    "#if namespace is declared globally out, then it has global scope(accessible anywhere in code)\n",
    "#if namespace is declared inside a defined function, it has local scope(accessible only inside)\n",
    "#Note: we cannot modify global variable with global scope using a function. If we want so, we need to declare\n",
    "#the variable as global explicitly inside the function so that function has permission to modify global variable within itself.\n",
    "#which is not a good practice. Alternatively, we can use return statements to do so and modify out of the function."
   ]
  },
  {
   "cell_type": "code",
   "execution_count": null,
   "id": "9d041e21-51df-4624-a8ef-74fee8043897",
   "metadata": {},
   "outputs": [],
   "source": [
    "\n",
    "\n",
    "def a_function():\n",
    "    value=5         #local variable \n",
    "    print(value)\n",
    "\n",
    "#print(value)    gives error as local value is not accessible and other value is not till defined"
   ]
  },
  {
   "cell_type": "code",
   "execution_count": 3,
   "id": "08b09a25-62d0-46ed-9aa4-a7ee90254629",
   "metadata": {
    "tags": []
   },
   "outputs": [
    {
     "name": "stdout",
     "output_type": "stream",
     "text": [
      "10\n",
      "5\n"
     ]
    }
   ],
   "source": [
    "value=10\n",
    "def a_function():\n",
    "    value=5         #local variable \n",
    "    print(value)\n",
    "\n",
    "print(value)\n",
    "a_function()"
   ]
  },
  {
   "cell_type": "code",
   "execution_count": null,
   "id": "e547a22b-b9dd-468c-a2d7-87ef24e0ce9b",
   "metadata": {},
   "outputs": [],
   "source": []
  },
  {
   "cell_type": "code",
   "execution_count": 5,
   "id": "023be81e-b7c8-421f-9120-51860e4f998f",
   "metadata": {
    "tags": []
   },
   "outputs": [
    {
     "name": "stdout",
     "output_type": "stream",
     "text": [
      "10\n",
      "11\n"
     ]
    }
   ],
   "source": [
    "value=10\n",
    "def a_function():\n",
    "    global value \n",
    "    value+=1        #this value here is same as the value declared above\n",
    "    print(value)\n",
    "\n",
    "print(value)\n",
    "a_function()"
   ]
  },
  {
   "cell_type": "code",
   "execution_count": 6,
   "id": "ae2226aa-7707-4c83-a462-7a7a7638bce3",
   "metadata": {
    "tags": []
   },
   "outputs": [
    {
     "name": "stdout",
     "output_type": "stream",
     "text": [
      "16\n"
     ]
    }
   ],
   "source": [
    "def bar():\n",
    "    my_variable = 9\n",
    " \n",
    "    if 16 > 9:\n",
    "        my_variable = 16     #this doesnot have block scope so it can be printed outside the block\n",
    " \n",
    "    print(my_variable)\n",
    " \n",
    "bar()"
   ]
  },
  {
   "cell_type": "code",
   "execution_count": 15,
   "id": "b7507b50-466a-4e72-81a2-3dfe456f91e7",
   "metadata": {
    "tags": []
   },
   "outputs": [
    {
     "name": "stdout",
     "output_type": "stream",
     "text": [
      "  ________                                __  .__                                 ___.                ._.\n",
      " /  _____/ __ __   ____   ______ ______ _/  |_|  |__   ____     ____  __ __  _____\\_ |__   ___________| |\n",
      "/   \\  ___|  |  \\_/ __ \\ /  ___//  ___/ \\   __\\  |  \\_/ __ \\   /    \\|  |  \\/     \\| __ \\_/ __ \\_  __ \\ |\n",
      "\\    \\_\\  \\  |  /\\  ___/ \\___ \\ \\___ \\   |  | |   Y  \\  ___/  |   |  \\  |  /  Y Y  \\ \\_\\ \\  ___/|  | \\/\\|\n",
      " \\______  /____/  \\___  >____  >____  >  |__| |___|  /\\___  > |___|  /____/|__|_|  /___  /\\___  >__|   __\n",
      "        \\/            \\/     \\/     \\/             \\/     \\/       \\/            \\/    \\/     \\/       \\/\n",
      "Welcome to the number guessing game\n",
      "I'm thinking of number between 1 and 100.\n"
     ]
    },
    {
     "name": "stdin",
     "output_type": "stream",
     "text": [
      "Choose a difficulty: 'easy' or 'hard' easy\n"
     ]
    },
    {
     "name": "stdout",
     "output_type": "stream",
     "text": [
      "You have 10 attempts remaining to guess the answer\n"
     ]
    },
    {
     "name": "stdin",
     "output_type": "stream",
     "text": [
      "Make a guess: 40\n"
     ]
    },
    {
     "name": "stdout",
     "output_type": "stream",
     "text": [
      "Too high.\n",
      "You have 9 attempts remaining to guess the answer\n"
     ]
    },
    {
     "name": "stdin",
     "output_type": "stream",
     "text": [
      "Make a guess: 20\n"
     ]
    },
    {
     "name": "stdout",
     "output_type": "stream",
     "text": [
      "Too low.\n",
      "You have 8 attempts remaining to guess the answer\n"
     ]
    },
    {
     "name": "stdin",
     "output_type": "stream",
     "text": [
      "Make a guess: 30\n"
     ]
    },
    {
     "name": "stdout",
     "output_type": "stream",
     "text": [
      "Too low.\n",
      "You have 7 attempts remaining to guess the answer\n"
     ]
    },
    {
     "name": "stdin",
     "output_type": "stream",
     "text": [
      "Make a guess: 35\n"
     ]
    },
    {
     "name": "stdout",
     "output_type": "stream",
     "text": [
      "Too high.\n",
      "You have 6 attempts remaining to guess the answer\n"
     ]
    },
    {
     "name": "stdin",
     "output_type": "stream",
     "text": [
      "Make a guess: 32\n"
     ]
    },
    {
     "name": "stdout",
     "output_type": "stream",
     "text": [
      "Too high.\n",
      "You have 5 attempts remaining to guess the answer\n"
     ]
    },
    {
     "name": "stdin",
     "output_type": "stream",
     "text": [
      "Make a guess: 31\n"
     ]
    },
    {
     "name": "stdout",
     "output_type": "stream",
     "text": [
      "You got it. The answer is 31\n"
     ]
    }
   ],
   "source": [
    "#guessing the number in the given attempts\n",
    "\n",
    "logo=\"\"\"  ________                                __  .__                                 ___.                ._.\n",
    " /  _____/ __ __   ____   ______ ______ _/  |_|  |__   ____     ____  __ __  _____\\_ |__   ___________| |\n",
    "/   \\  ___|  |  \\_/ __ \\ /  ___//  ___/ \\   __\\  |  \\_/ __ \\   /    \\|  |  \\/     \\| __ \\_/ __ \\_  __ \\ |\n",
    "\\    \\_\\  \\  |  /\\  ___/ \\___ \\ \\___ \\   |  | |   Y  \\  ___/  |   |  \\  |  /  Y Y  \\ \\_\\ \\  ___/|  | \\/\\|\n",
    " \\______  /____/  \\___  >____  >____  >  |__| |___|  /\\___  > |___|  /____/|__|_|  /___  /\\___  >__|   __\n",
    "        \\/            \\/     \\/     \\/             \\/     \\/       \\/            \\/    \\/     \\/       \\/\"\"\"\n",
    "\n",
    "import random\n",
    "\n",
    "print(logo)\n",
    "print(\"Welcome to the number guessing game\")\n",
    "print(\"I'm thinking of number between 1 and 100.\")\n",
    "level=input(\"Choose a difficulty: 'easy' or 'hard'\")\n",
    "\n",
    "num=random.randint(1,100)\n",
    "level_dict={\"easy\":10,\n",
    "           \"hard\":5}\n",
    "\n",
    "def check_answer(guess, num, attempts):\n",
    "    if guess!=num and attempts==0:\n",
    "        print(\"You have run out of guesses. You lose\")\n",
    "    elif guess>num:\n",
    "        print(\"Too high.\")\n",
    "    elif guess<num:\n",
    "        print(\"Too low.\")\n",
    "    else:\n",
    "        print(f\"You got it. The answer is {num}\")\n",
    "        attempts=0                                 #if answer is correct loop should end\n",
    "    return attempts                                #so that it will return 0 and attempts become 0 that ends loop.\n",
    "    \n",
    "def play(level):\n",
    "    attempts=level_dict[level]\n",
    "    while attempts!=0:\n",
    "        print(f\"You have {attempts} attempts remaining to guess the answer\")\n",
    "        guess=int(input(\"Make a guess:\"))\n",
    "        attempts-=1\n",
    "        attempts=check_answer(guess, num, attempts)\n",
    "\n",
    "play(level)\n",
    "    \n",
    "    \n",
    "    \n",
    "    \n",
    "    \n",
    "\n",
    "\n"
   ]
  },
  {
   "cell_type": "code",
   "execution_count": 2,
   "id": "81e60724-533f-4d3d-9235-2d91390864d0",
   "metadata": {
    "tags": []
   },
   "outputs": [
    {
     "ename": "NameError",
     "evalue": "name 'logo' is not defined",
     "output_type": "error",
     "traceback": [
      "\u001b[1;31m---------------------------------------------------------------------------\u001b[0m",
      "\u001b[1;31mNameError\u001b[0m                                 Traceback (most recent call last)",
      "Cell \u001b[1;32mIn[2], line 53\u001b[0m\n\u001b[0;32m     49\u001b[0m         \u001b[38;5;28;01melif\u001b[39;00m guess \u001b[38;5;241m!=\u001b[39m answer:\n\u001b[0;32m     50\u001b[0m             \u001b[38;5;28mprint\u001b[39m(\u001b[38;5;124m\"\u001b[39m\u001b[38;5;124mGuess again.\u001b[39m\u001b[38;5;124m\"\u001b[39m)\n\u001b[1;32m---> 53\u001b[0m game()\n",
      "Cell \u001b[1;32mIn[2], line 28\u001b[0m, in \u001b[0;36mgame\u001b[1;34m()\u001b[0m\n\u001b[0;32m     27\u001b[0m \u001b[38;5;28;01mdef\u001b[39;00m \u001b[38;5;21mgame\u001b[39m():\n\u001b[1;32m---> 28\u001b[0m     \u001b[38;5;28mprint\u001b[39m(logo)\n\u001b[0;32m     29\u001b[0m     \u001b[38;5;66;03m#Choosing a random number between 1 and 100.\u001b[39;00m\n\u001b[0;32m     30\u001b[0m     \u001b[38;5;28mprint\u001b[39m(\u001b[38;5;124m\"\u001b[39m\u001b[38;5;124mWelcome to the Number Guessing Game!\u001b[39m\u001b[38;5;124m\"\u001b[39m)\n",
      "\u001b[1;31mNameError\u001b[0m: name 'logo' is not defined"
     ]
    }
   ],
   "source": [
    "from random import randint\n",
    "#from art import logo\n",
    "\n",
    "EASY_LEVEL_TURNS = 10        #global constant by writing all letters capital\n",
    "HARD_LEVEL_TURNS = 5         #global constant by writing all letters capital\n",
    "\n",
    "#Function to check user's guess against actual answer.\n",
    "def check_answer(guess, answer, turns):\n",
    "    \"\"\"checks answer against guess. Returns the number of turns remaining.\"\"\"\n",
    "    if guess > answer:\n",
    "        print(\"Too high.\")\n",
    "        return turns - 1\n",
    "    elif guess < answer:\n",
    "        print(\"Too low.\")\n",
    "        return turns - 1\n",
    "    else:\n",
    "        print(f\"You got it! The answer was {answer}.\")\n",
    "\n",
    "#Make function to set difficulty.\n",
    "def set_difficulty():\n",
    "    level = input(\"Choose a difficulty. Type 'easy' or 'hard': \")\n",
    "    if level == \"easy\":\n",
    "        return EASY_LEVEL_TURNS\n",
    "    else:\n",
    "        return HARD_LEVEL_TURNS\n",
    "\n",
    "def game():\n",
    "    print(logo)\n",
    "    #Choosing a random number between 1 and 100.\n",
    "    print(\"Welcome to the Number Guessing Game!\")\n",
    "    print(\"I'm thinking of a number between 1 and 100.\")\n",
    "    answer = randint(1, 100)\n",
    "    print(f\"Pssst, the correct answer is {answer}\") \n",
    "\n",
    "    turns = set_difficulty()\n",
    "    #Repeat the guessing functionality if they get it wrong.\n",
    "    guess = 0\n",
    "    while guess != answer:\n",
    "        print(f\"You have {turns} attempts remaining to guess the number.\")\n",
    "\n",
    "    #Let the user guess a number.\n",
    "        guess = int(input(\"Make a guess: \"))\n",
    "\n",
    "    #Track the number of turns and reduce by 1 if they get it wrong.\n",
    "        turns = check_answer(guess, answer, turns)\n",
    "        if turns == 0:\n",
    "            print(\"You've run out of guesses, you lose.\")\n",
    "            return\n",
    "        elif guess != answer:\n",
    "            print(\"Guess again.\")\n",
    "\n",
    "\n",
    "game()\n",
    "\n"
   ]
  },
  {
   "cell_type": "code",
   "execution_count": 3,
   "id": "4e191baf-6d4e-4545-b51b-65f1ca489405",
   "metadata": {},
   "outputs": [
    {
     "name": "stdout",
     "output_type": "stream",
     "text": [
      "Hello world\n"
     ]
    }
   ],
   "source": [
    "print(\"Hello world\")"
   ]
  },
  {
   "cell_type": "code",
   "execution_count": 1,
   "id": "516630c9-e4e2-4dd2-80d1-c120efd83a60",
   "metadata": {},
   "outputs": [
    {
     "name": "stdin",
     "output_type": "stream",
     "text": [
      "Type 'encode' to encrypt, type 'decode' to decrypt:\n",
      " encode\n",
      "Type your message:\n",
      " hello\n",
      "Type the shift number:\n",
      " 1\n"
     ]
    },
    {
     "name": "stdout",
     "output_type": "stream",
     "text": [
      "The encoded text is ifmmp\n"
     ]
    }
   ],
   "source": [
    "alphabet = ['a', 'b', 'c', 'd', 'e', 'f', 'g', 'h', 'i', 'j', 'k', 'l', 'm', 'n', 'o', 'p', 'q', 'r', 's', 't', 'u', 'v', 'w', 'x', 'y', 'z']\n",
    "direction = input(\"Type 'encode' to encrypt, type 'decode' to decrypt:\\n\")\n",
    "\n",
    "text = input(\"Type your message:\\n\").lower()\n",
    "shift = int(input(\"Type the shift number:\\n\"))\n",
    "\n",
    "\n",
    "#TODO-1: Create a function called 'encrypt' that takes the 'text' and 'shift' as inputs.\n",
    "\n",
    "def encrypt(new_text, shift_position):\n",
    "    string = \"\"\n",
    "    for letter in new_text:\n",
    "        position = alphabet.index(letter)\n",
    "        new_position = position + shift_position\n",
    "        string += alphabet[new_position]\n",
    "        # new_letter = alphabet[new_position]\n",
    "        # string += new_letter\n",
    "    print(f\"The encoded text is {string}\")\n",
    "        \n",
    "\n",
    "    #TODO-2: Inside the 'encrypt' function, shift each letter of the 'text' forwards in the alphabet by the shift amount and print the encrypted text.  \n",
    "    #e.g. \n",
    "    #plain_text = \"hello\"\n",
    "    #shift = 5\n",
    "    #cipher_text = \"mjqqt\"\n",
    "    #print output: \"The encoded text is mjqqt\"\n",
    "\n",
    "    ##HINT: How do you get the index of an item in a list:\n",
    "    #https://stackoverflow.com/questions/176918/finding-the-index-of-an-item-in-a-list\n",
    "\n",
    "    ##🐛Bug alert: What happens if you try to encode the word 'civilization'?🐛\n",
    "\n",
    "#TODO-3: Call the encrypt function and pass in the user inputs. You should be able to test the code and encrypt a message. \n",
    "encrypt(new_text = text, shift_position = shift)"
   ]
  },
  {
   "cell_type": "code",
   "execution_count": null,
   "id": "6eebdcb2-ce6f-4f5d-8f28-cc0213f12881",
   "metadata": {},
   "outputs": [],
   "source": []
  }
 ],
 "metadata": {
  "kernelspec": {
   "display_name": "Python 3 (ipykernel)",
   "language": "python",
   "name": "python3"
  },
  "language_info": {
   "codemirror_mode": {
    "name": "ipython",
    "version": 3
   },
   "file_extension": ".py",
   "mimetype": "text/x-python",
   "name": "python",
   "nbconvert_exporter": "python",
   "pygments_lexer": "ipython3",
   "version": "3.11.5"
  }
 },
 "nbformat": 4,
 "nbformat_minor": 5
}
