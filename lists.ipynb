{
 "cells": [
  {
   "cell_type": "code",
   "execution_count": 47,
   "id": "26e75782-5708-4120-8638-320e17459830",
   "metadata": {
    "tags": []
   },
   "outputs": [
    {
     "name": "stdin",
     "output_type": "stream",
     "text": [
      "Enter names separated by comma and space prayag, pragya, indira, bhola\n"
     ]
    },
    {
     "name": "stdout",
     "output_type": "stream",
     "text": [
      "['prayag', 'pragya', 'indira', 'bhola']\n",
      "The person choosen is prayag\n"
     ]
    }
   ],
   "source": [
    "#selects a random name from the names taken as input in list\n",
    "#split() function takes input and keeps them in list\n",
    "\n",
    "name_list = input(\"Enter names separated by comma and space\").split(\", \")\n",
    "print(name_list)\n",
    "length_list=len(name_list)\n",
    "\n",
    "import random\n",
    "random_choice=random.randint(0,length_list-1)   #produces random integer among 0,1,2 that work as index to denote list element\n",
    "choosen_person=(name_list[random_choice])\n",
    "print(f\"The person choosen is {choosen_person}\")\n",
    "\n",
    "\n",
    "\n"
   ]
  },
  {
   "cell_type": "code",
   "execution_count": 45,
   "id": "9da1cb01-174f-449b-af99-540ccf009b54",
   "metadata": {
    "tags": []
   },
   "outputs": [
    {
     "name": "stdout",
     "output_type": "stream",
     "text": [
      "['1', 'hello', 'Welcome']\n",
      "1\n",
      "hello\n",
      "Welcome\n",
      "Welcome\n",
      "hello\n",
      "1\n",
      "\n",
      "\n",
      "using append() function\n",
      "['1', 'hello', 'Welcome', 'Prayag']\n",
      "\n",
      "\n",
      "using extend() function\n",
      "['1', 'hello', 'Welcome', 'Prayag', 'Kharel', 'Pragya']\n",
      "\n",
      "\n",
      "using insert() function\n",
      "['1', 'hello', 'wow', 'Welcome', 'Prayag', 'Kharel', 'Pragya']\n",
      "\n",
      "\n",
      "using pop() function\n",
      "Pragya\n",
      "['1', 'hello', 'wow', 'Welcome', 'Prayag', 'Kharel']\n",
      "wow\n",
      "['1', 'hello', 'Welcome', 'Prayag', 'Kharel']\n",
      "\n",
      "\n",
      "using remove() function\n",
      "['hello', 'Welcome', 'Prayag', 'Kharel']\n",
      "\n",
      "\n",
      "['hello', 'Welcome', 'Prayag']\n"
     ]
    }
   ],
   "source": [
    "#list\n",
    "\n",
    "our_list=[\"1\",\"hello\",\"Welcome\"]\n",
    "print(our_list)\n",
    "print(our_list[0])\n",
    "print(our_list[1])\n",
    "print(our_list[2])\n",
    "print(our_list[-1])\n",
    "print(our_list[-2])\n",
    "print(our_list[-3])\n",
    "print(\"\\n\")\n",
    "\n",
    "print(\"using append() function\")\n",
    "our_list.append(\"Prayag\") #adds a element in a list\n",
    "print(our_list)\n",
    "print(\"\\n\")\n",
    "\n",
    "print(\"using extend() function\")\n",
    "our_list.extend([\"Kharel\", \"Pragya\"]) #adds multiple element in list\n",
    "print(our_list)\n",
    "print(\"\\n\")\n",
    "\n",
    "print(\"using insert() function\")\n",
    "our_list.insert(2,\"wow\") #inserts element in specified index\n",
    "print(our_list)\n",
    "print(\"\\n\")\n",
    "\n",
    "print(\"using pop() function\")\n",
    "poped_element=our_list.pop() #pops out last element if no index is specified also removes element from list\n",
    "print(poped_element)\n",
    "print(our_list)\n",
    "poped_element= our_list.pop(2)\n",
    "print(poped_element)\n",
    "print(our_list)\n",
    "print(\"\\n\")\n",
    "\n",
    "print(\"using remove() function\")\n",
    "our_list.remove(\"1\")  #removes a element: reomve() takes exactly one argument but cannot return removed element\n",
    "print(our_list)\n",
    "print(\"\\n\")\n",
    "\n",
    "our_list.remove(our_list[3])\n",
    "print(our_list)"
   ]
  },
  {
   "cell_type": "code",
   "execution_count": 54,
   "id": "482ddb3b-9503-4a35-a839-989023abaf3a",
   "metadata": {
    "tags": []
   },
   "outputs": [
    {
     "name": "stdout",
     "output_type": "stream",
     "text": [
      "[['a', 'b', 'c'], ['1', '2', '3']]\n",
      "['a', 'b', 'c']\n",
      "['1', '2', '3']\n",
      "2\n",
      "['a', 'b', 'c']\n",
      "['1', '2', '3']\n",
      "2\n"
     ]
    }
   ],
   "source": [
    "#nested list\n",
    "\n",
    "list1=[\"a\",\"b\",\"c\"]\n",
    "list2=[\"1\",\"2\",\"3\"]\n",
    "\n",
    "list_nested=[list1, list2]\n",
    "print(list_nested)\n",
    "print(list1)\n",
    "print(list2)\n",
    "\n",
    "print(len(list_nested))\n",
    "print(list_nested[0])\n",
    "print(list_nested[1])\n",
    "print(list_nested[1][1])\n"
   ]
  },
  {
   "cell_type": "code",
   "execution_count": 26,
   "id": "e1dfc4ef-72fa-4353-b176-7110053a8aad",
   "metadata": {},
   "outputs": [
    {
     "name": "stdout",
     "output_type": "stream",
     "text": [
      "Hiding your treasure.\n"
     ]
    },
    {
     "name": "stdin",
     "output_type": "stream",
     "text": [
      "Where do you want to hide your treasure? c3\n"
     ]
    },
    {
     "name": "stdout",
     "output_type": "stream",
     "text": [
      "['🧱', '🧱', '🧱']\n",
      "['🧱', '🧱', '🧱']\n",
      "['🧱', '🧱', '💎']\n"
     ]
    }
   ],
   "source": [
    "#marking the treasure postion given by user\n",
    "\n",
    "# line1=[\"  \",\"  \",\"  \"]\n",
    "# line2=[\"  \",\"  \",\"  \"]\n",
    "# line3=[\"  \",\"  \",\"  \"]\n",
    "# venue=[line1,line2,line3]\n",
    "\n",
    "# position=input(\"Where do you want to hide your treasure? Give column and row e.g B3\")\n",
    "\n",
    "# if position[0].lower()=='a':\n",
    "#     column=1\n",
    "# elif position[0].lower()=='b':\n",
    "#     column=2\n",
    "# else:\n",
    "#     column=3\n",
    "# row=int(position[1])\n",
    "\n",
    "# venue[row-1][column-1]=\"X \"\n",
    "\n",
    "# print(f\"{line1}\\n{line2}\\n{line3}\")    ORRRR \n",
    "\n",
    "\n",
    "line1=[\"🧱\",\"🧱\",\"🧱\"]   #press windows+; to get emoji\n",
    "line2=[\"🧱\",\"🧱\",\"🧱\"]\n",
    "line3=[\"🧱\",\"🧱\",\"🧱\"]\n",
    "MAP=[line1,line2,line3]\n",
    "\n",
    "print(\"Hiding your treasure.\")\n",
    "position=input(\"Where do you want to hide your treasure?\")\n",
    "\n",
    "letter=position[0].lower()\n",
    "number=int(position[1])\n",
    "\n",
    "abc=[\"a\",\"b\",\"c\"]\n",
    "letter_index=abc.index(letter)\n",
    "number_index=number-1\n",
    "\n",
    "MAP[number_index][letter_index]=\"💎\"\n",
    "print(f\"{line1}\\n{line2}\\n{line3}\")\n",
    "\n",
    "\n",
    "\n",
    "\n",
    "\n",
    "\n"
   ]
  },
  {
   "cell_type": "code",
   "execution_count": 37,
   "id": "e9f4e03c-4197-4776-879f-de34b3b09ec6",
   "metadata": {
    "tags": []
   },
   "outputs": [
    {
     "name": "stdin",
     "output_type": "stream",
     "text": [
      "Rock,scissors or paper? paper\n"
     ]
    },
    {
     "name": "stdout",
     "output_type": "stream",
     "text": [
      "You have choosen paper\n",
      "\n",
      "\n",
      "    _______\n",
      "---'   ____)____\n",
      "          ______)\n",
      "          _______)\n",
      "         _______)\n",
      "---.__________)\n",
      "\n",
      "\n",
      "\n",
      "Computer chooses: paper\n",
      "\n",
      "\n",
      "    _______\n",
      "---'   ____)____\n",
      "          ______)\n",
      "          _______)\n",
      "         _______)\n",
      "---.__________)\n",
      "\n",
      "Its draw\n"
     ]
    }
   ],
   "source": [
    "#rock , scissor and paper game with computer\n",
    "\n",
    "rock = '''\n",
    "    _______\n",
    "---'   ____)\n",
    "      (_____)\n",
    "      (_____)\n",
    "      (____)\n",
    "---.__(___)\n",
    "'''\n",
    "\n",
    "paper = '''\n",
    "    _______\n",
    "---'   ____)____\n",
    "          ______)\n",
    "          _______)\n",
    "         _______)\n",
    "---.__________)\n",
    "'''\n",
    "\n",
    "scissors = '''\n",
    "    _______\n",
    "---'   ____)____\n",
    "          ______)\n",
    "       __________)\n",
    "      (____)\n",
    "---.__(___)\n",
    "'''\n",
    "\n",
    "your_choice=input(\"Rock,scissors or paper?\")\n",
    "your_choice=your_choice.lower()\n",
    "print(f\"You have choosen {your_choice}\\n\")\n",
    "if your_choice==\"rock\":\n",
    "    print(rock)\n",
    "    print(\"\\n\")\n",
    "elif your_choice==\"scissors\":\n",
    "    print(scissors)\n",
    "    print(\"\\n\")\n",
    "else:\n",
    "    print(paper)\n",
    "    print(\"\\n\")\n",
    "\n",
    "my_list1=[rock,scissors,paper]\n",
    "my_list2=[\"rock\",\"scissors\",\"paper\"]\n",
    "import random\n",
    "random_list_index=random.randint(0,2)\n",
    "computers_choice=my_list1[random_list_index]\n",
    "computers_RSP=my_list2[random_list_index]\n",
    "print(f\"Computer chooses: {computers_RSP}\\n\")\n",
    "print(computers_choice)\n",
    "\n",
    "if computers_RSP==\"rock\":\n",
    "    if your_choice==\"rock\":\n",
    "        print(\"Its draw\")\n",
    "    elif your_choice==\"scissors\":\n",
    "        print(\"You lost. Pay 100 ruppes fine to Prayag.\")\n",
    "    elif your_choice==\"paper\":\n",
    "        print(\"Congrats! You won. Wish you good.\")\n",
    "    else:\n",
    "        print(\"Invalid input\")\n",
    "elif computers_RSP==\"scissors\":\n",
    "    if your_choice==\"scissors\":\n",
    "        print(\"Its draw\")\n",
    "    elif your_choice==\"paper\":\n",
    "        print(\"You lost. So unlucky. Better don't play.\")\n",
    "    elif your_choice==\"rock\":\n",
    "        print(\"Congrats! You won. You will marry your crush.\")\n",
    "    else:\n",
    "        print(\"You fool. Learn the game first.\")\n",
    "else: \n",
    "    if your_choice==\"paper\":\n",
    "        print(\"Its draw\")\n",
    "    elif your_choice==\"rock\":\n",
    "        print(\"You lost. You are donkey.\")\n",
    "    elif your_choice==\"scissors\":\n",
    "        print(\"Congrats! You won. You will earn very much.\")\n",
    "    else:\n",
    "        print(\"You fool. Follow instructions properly\")\n",
    "\n",
    "\n"
   ]
  },
  {
   "cell_type": "code",
   "execution_count": null,
   "id": "2779b86e-7f2b-4430-a7c7-6e71f6999ade",
   "metadata": {},
   "outputs": [],
   "source": []
  }
 ],
 "metadata": {
  "kernelspec": {
   "display_name": "Python 3 (ipykernel)",
   "language": "python",
   "name": "python3"
  },
  "language_info": {
   "codemirror_mode": {
    "name": "ipython",
    "version": 3
   },
   "file_extension": ".py",
   "mimetype": "text/x-python",
   "name": "python",
   "nbconvert_exporter": "python",
   "pygments_lexer": "ipython3",
   "version": "3.11.5"
  }
 },
 "nbformat": 4,
 "nbformat_minor": 5
}
