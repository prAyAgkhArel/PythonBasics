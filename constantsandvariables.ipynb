{
 "cells": [
  {
   "cell_type": "code",
   "execution_count": 1,
   "id": "77eaf44f-34ae-4d1a-82b9-0781dac7e0bf",
   "metadata": {
    "tags": []
   },
   "outputs": [
    {
     "name": "stdout",
     "output_type": "stream",
     "text": [
      "3.45 9.8\n",
      "apple\n",
      "9.5\n",
      "5 prayag 6.7\n",
      "5 5 5\n"
     ]
    }
   ],
   "source": [
    "#declaration of python constants, (#define PI 3.45) in case of C\n",
    "PI=3.45\n",
    "GRAVITY=9.8\n",
    "print(PI, GRAVITY)\n",
    "\n",
    "#declaration and initialization of python variables\n",
    "a=\"apple\"\n",
    "print(a)\n",
    "\n",
    "#here the variable a is initialized as well as declared as string kind of datatype\n",
    "#changing the value of variable and type of variable in runtime\n",
    "a=\"9.5\"\n",
    "print(a)\n",
    "\n",
    "#now a will store 9.5 till its value and data kind is not changed by the code below\n",
    "#assigning multiple values to multiple variables\n",
    "\n",
    "b,c,d=5,\"prayag\",6.7\n",
    "print(b,c,d)\n",
    "\n",
    "#assigning same values to multiple variables\n",
    "b=c=d=5\n",
    "print(b,c,d)\n"
   ]
  },
  {
   "cell_type": "code",
   "execution_count": null,
   "id": "14feb8df-be45-43dd-9c1f-60b333335a2a",
   "metadata": {},
   "outputs": [],
   "source": []
  }
 ],
 "metadata": {
  "kernelspec": {
   "display_name": "Python 3 (ipykernel)",
   "language": "python",
   "name": "python3"
  },
  "language_info": {
   "codemirror_mode": {
    "name": "ipython",
    "version": 3
   },
   "file_extension": ".py",
   "mimetype": "text/x-python",
   "name": "python",
   "nbconvert_exporter": "python",
   "pygments_lexer": "ipython3",
   "version": "3.11.5"
  }
 },
 "nbformat": 4,
 "nbformat_minor": 5
}
