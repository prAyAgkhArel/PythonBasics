{
 "cells": [
  {
   "cell_type": "code",
   "execution_count": null,
   "id": "4914e95d-865f-4bef-958f-884f23c78c9b",
   "metadata": {},
   "outputs": [],
   "source": [
    "#dictionaries basic operations\n",
    "\n",
    "\n",
    "#defining a dictionary\n",
    "programming_dictionary = {\n",
    "  \"Bug\": \"An error in a program that prevents the program from running as expected.\", \n",
    "  \"Function\": \"A piece of code that you can easily call over and over again.\",\n",
    "}\n",
    "\n",
    "print(programming_dictionary)\n",
    "print(\"\\n\\n\")\n",
    "\n",
    "#retrieving items from dictionary\n",
    "print(programming_dictionary[\"Bug\"])\n",
    "print(\"\\n\")\n",
    "\n",
    "#adding new items to dictionary\n",
    "programming_dictionary[\"Loop\"] = \"The action of doing something over and over again.\"\n",
    "print(programming_dictionary)\n",
    "print(\"\\n\\n\")\n",
    "\n",
    "#create an empty dictionary\n",
    "empty_dictionary={}\n",
    "print(empty_dictionary)\n",
    "print(\"\\n\\n\")\n",
    "\n",
    "#wipe an existing dictionary \n",
    "#programming_dictionary={} \n",
    "#print(programming_dictionary)\n",
    "#this will wipe the dictionary\n",
    "\n",
    "#edit an item in a dictionary\n",
    "programming_dictionary[\"Bug\"] = \"A moth in your computer.\"\n",
    "print(programming_dictionary[\"Bug\"])\n",
    "print(\"\\n\\n\")\n",
    "\n",
    "#loop through a dictionary\n",
    "for items in programming_dictionary:\n",
    "    print(items) #prints keys of dictionary\n",
    "    print(programming_dictionary[items]) #prints values of dictionary\n",
    "\n",
    "\n",
    "\n",
    "\n",
    "\n"
   ]
  },
  {
   "cell_type": "code",
   "execution_count": 1,
   "id": "71f74d61-786d-41bd-a103-590de089ff10",
   "metadata": {
    "tags": []
   },
   "outputs": [
    {
     "name": "stdout",
     "output_type": "stream",
     "text": [
      "{'Harry': 'Exceeds expectations', 'Ron': 'Acceptable', 'Hermione': 'Outstanding', 'Draco': 'Acceptable', 'Neville': 'Fail'}\n"
     ]
    }
   ],
   "source": [
    "student_scores = {\n",
    "  \"Harry\": 81,\n",
    "  \"Ron\": 78,\n",
    "  \"Hermione\": 99, \n",
    "  \"Draco\": 74,\n",
    "  \"Neville\": 62,\n",
    "}\n",
    "# 🚨 Don't change the code above 👆\n",
    "# TODO-1: Create an empty dictionary called student_grades.\n",
    "student_grades={}\n",
    "\n",
    "\n",
    "# TODO-2: Write your code below to add the grades to student_grades.👇\n",
    "for key in student_scores:\n",
    "    if student_scores[key]>90:\n",
    "        student_grades[key]=\"Outstanding\"\n",
    "    elif student_scores[key]>80:\n",
    "        student_grades[key]=\"Exceeds expectations\"\n",
    "    elif student_scores[key]>70:\n",
    "        student_grades[key]=\"Acceptable\"\n",
    "    else:\n",
    "        student_grades[key]=\"Fail\"\n",
    "    \n",
    "\n",
    "\n",
    "# 🚨 Don't change the code below 👇\n",
    "print(student_grades)"
   ]
  },
  {
   "cell_type": "code",
   "execution_count": null,
   "id": "00132897-1888-4e5d-a479-4315ce745e14",
   "metadata": {},
   "outputs": [],
   "source": [
    "\n",
    "#Nesting dictionaries in list, list in dictionaries, dictionaries in dictionaries \n",
    "\n",
    "\n",
    "capitals = {\n",
    "  \"France\": \"Paris\",\n",
    "  \"Germany\": \"Berlin\",\n",
    "}\n",
    "\n",
    "#Nesting a List in a Dictionary\n",
    "\n",
    "travel_log = {\n",
    "  \"France\": [\"Paris\", \"Lille\", \"Dijon\"],\n",
    "  \"Germany\": [\"Berlin\", \"Hamburg\", \"Stuttgart\"],\n",
    "}\n",
    "\n",
    "#Nesting Dictionary in a Dictionary\n",
    "\n",
    "travel_log = {\n",
    "  \"France\": {\"cities_visited\": [\"Paris\", \"Lille\", \"Dijon\"], \"total_visits\": 12},\n",
    "  \"Germany\": {\"cities_visited\": [\"Berlin\", \"Hamburg\", \"Stuttgart\"], \"total_visits\": 5},\n",
    "}\n",
    "\n",
    "#Nesting Dictionaries in Lists\n",
    "\n",
    "travel_log = [\n",
    "{\n",
    "  \"country\": \"France\", \n",
    "  \"cities_visited\": [\"Paris\", \"Lille\", \"Dijon\"], \n",
    "  \"total_visits\": 12,\n",
    "},\n",
    "{\n",
    "  \"country\": \"Germany\",\n",
    "  \"cities_visited\": [\"Berlin\", \"Hamburg\", \"Stuttgart\"],\n",
    "  \"total_visits\": 5,\n",
    "},\n",
    "]"
   ]
  },
  {
   "cell_type": "code",
   "execution_count": 9,
   "id": "94ad3057-ac98-415d-954d-2cf6c16882ea",
   "metadata": {
    "tags": []
   },
   "outputs": [
    {
     "name": "stdin",
     "output_type": "stream",
     "text": [
      " Nepal\n",
      " 2\n",
      "  [\"BTM\",\"KTM\"]\n"
     ]
    },
    {
     "name": "stdout",
     "output_type": "stream",
     "text": [
      "[{'country': 'France', 'visits': 12, 'cities': ['Paris', 'Lille', 'Dijon']}, {'country': 'Germany', 'visits': 5, 'cities': ['Berlin', 'Hamburg', 'Stuttgart']}]\n",
      "I've been to Nepal 2 times.\n",
      "My favourite city was BTM.\n"
     ]
    }
   ],
   "source": [
    "country = input() # Add country name\n",
    "visits = int(input()) # Number of visits\n",
    "list_of_cities = eval(input()) # create list from formatted string\n",
    "\n",
    "travel_log = [\n",
    "  {\n",
    "    \"country\": \"France\",\n",
    "    \"visits\": 12,\n",
    "    \"cities\": [\"Paris\", \"Lille\", \"Dijon\"]\n",
    "  },\n",
    "  {\n",
    "    \"country\": \"Germany\",\n",
    "    \"visits\": 5,\n",
    "    \"cities\": [\"Berlin\", \"Hamburg\", \"Stuttgart\"]\n",
    "  },\n",
    "]\n",
    "# Do NOT change the code above 👆\n",
    "\n",
    "# TODO: Write the function that will allow new countries\n",
    "# to be added to the travel_log. \n",
    "def add_new_country(country, visits, list_of_cities):\n",
    "    global travel_log\n",
    "    new_dictionary={\"country\":country,\n",
    "                   \"visits\":visits,\n",
    "                   \"cities\":list_of_cities,\n",
    "                   }\n",
    "    travel_log.append(new_dictionary)\n",
    "\n",
    "\n",
    "\n",
    "# Do not change the code below 👇\n",
    "add_new_country(country, visits, list_of_cities)\n",
    "print(f\"I've been to {travel_log[2]['country']} {travel_log[2]['visits']} times.\")\n",
    "print(f\"My favourite city was {travel_log[2]['cities'][0]}.\")"
   ]
  },
  {
   "cell_type": "code",
   "execution_count": 12,
   "id": "3dbf4839-8591-4804-9d08-cd26057eb84f",
   "metadata": {
    "tags": []
   },
   "outputs": [
    {
     "name": "stdout",
     "output_type": "stream",
     "text": [
      "\n",
      "                         ___________\n",
      "                         \\         /\n",
      "                          )_______(\n",
      "                          |\"\"\"\"\"\"\"|_.-._,.---------.,_.-._\n",
      "                          |       | | |               | | ''-.\n",
      "                          |       |_| |_             _| |_..-'\n",
      "                          |_______| '-' `'---------'` '-'\n",
      "                          )\"\"\"\"\"\"\"(\n",
      "                         /_________\\\n",
      "                       .-------------.\n",
      "                      /_______________\\\n",
      "\n"
     ]
    },
    {
     "name": "stdin",
     "output_type": "stream",
     "text": [
      "What is your name? a\n",
      "Your bid? 1\n",
      "Are there other bidders too? Type yes or no yes\n",
      "What is your name? b\n",
      "Your bid? 2\n",
      "Are there other bidders too? Type yes or no no\n"
     ]
    },
    {
     "name": "stdout",
     "output_type": "stream",
     "text": [
      "The winner is b with a bid of 2\n"
     ]
    }
   ],
   "source": [
    "#blind auction program\n",
    "\n",
    "logo = '''\n",
    "                         ___________\n",
    "                         \\         /\n",
    "                          )_______(\n",
    "                          |\"\"\"\"\"\"\"|_.-._,.---------.,_.-._\n",
    "                          |       | | |               | | ''-.\n",
    "                          |       |_| |_             _| |_..-'\n",
    "                          |_______| '-' `'---------'` '-'\n",
    "                          )\"\"\"\"\"\"\"(\n",
    "                         /_________\\\\\n",
    "                       .-------------.\n",
    "                      /_______________\\\\\n",
    "'''\n",
    "print(logo)\n",
    "\n",
    "bidders={} #declaring a empty dictionary to store info as name(key) and bid(value)\n",
    "\n",
    "flag=\"yes\"\n",
    "while flag==\"yes\":\n",
    "    name=input(\"What is your name?\")\n",
    "    bid=int(input(\"Your bid?\"))\n",
    "    flag=input(\"Are there other bidders too? Type yes or no\").lower()\n",
    "    bidders[name]=bid\n",
    "    #clear() clear screen after each \"yes\"(by any method)so that no two bidders know each other's bid \n",
    "\n",
    "highest_bid=0\n",
    "winner=\"\"\n",
    "for name in bidders:\n",
    "    if bidders[name]>highest_bid:\n",
    "        highest_bid=bidders[name]\n",
    "        winner=name\n",
    "print(f\"The winner is {winner} with a bid of ${highest_bid}\")\n"
   ]
  },
  {
   "cell_type": "code",
   "execution_count": null,
   "id": "1bbb32bf-7abc-41d5-b19d-dc108c3d1bc4",
   "metadata": {},
   "outputs": [],
   "source": []
  }
 ],
 "metadata": {
  "kernelspec": {
   "display_name": "Python 3 (ipykernel)",
   "language": "python",
   "name": "python3"
  },
  "language_info": {
   "codemirror_mode": {
    "name": "ipython",
    "version": 3
   },
   "file_extension": ".py",
   "mimetype": "text/x-python",
   "name": "python",
   "nbconvert_exporter": "python",
   "pygments_lexer": "ipython3",
   "version": "3.11.5"
  }
 },
 "nbformat": 4,
 "nbformat_minor": 5
}
