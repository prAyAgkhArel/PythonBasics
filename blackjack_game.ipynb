{
 "cells": [
  {
   "cell_type": "code",
   "execution_count": null,
   "id": "63ae8cef-e985-4368-a59c-6030f6a08ba9",
   "metadata": {},
   "outputs": [
    {
     "name": "stdout",
     "output_type": "stream",
     "text": [
      "Your cards: [3, 10] Your current score: 13\n",
      "Dealer's first card: 5\n"
     ]
    },
    {
     "name": "stdin",
     "output_type": "stream",
     "text": [
      "Type 'y' to get another card or type 'n' to pass. y\n"
     ]
    },
    {
     "name": "stdout",
     "output_type": "stream",
     "text": [
      "Your cards: [3, 10, 6] Current score:19\n"
     ]
    },
    {
     "name": "stdin",
     "output_type": "stream",
     "text": [
      "Type 'y' to get another card or type 'n' to pass. y\n"
     ]
    },
    {
     "name": "stdout",
     "output_type": "stream",
     "text": [
      "Your cards: [3, 10, 6, 7] Current score:26\n",
      "You lost. Its bust\n"
     ]
    },
    {
     "name": "stdin",
     "output_type": "stream",
     "text": [
      "Type y to play again and n to exit y\n"
     ]
    },
    {
     "name": "stdout",
     "output_type": "stream",
     "text": [
      "Your cards: [6, 7] Your current score: 13\n",
      "Dealer's first card: 10\n"
     ]
    },
    {
     "name": "stdin",
     "output_type": "stream",
     "text": [
      "Type 'y' to get another card or type 'n' to pass. y\n"
     ]
    },
    {
     "name": "stdout",
     "output_type": "stream",
     "text": [
      "Your cards: [6, 7, 3] Current score:16\n"
     ]
    },
    {
     "name": "stdin",
     "output_type": "stream",
     "text": [
      "Type 'y' to get another card or type 'n' to pass. n\n"
     ]
    },
    {
     "name": "stdout",
     "output_type": "stream",
     "text": [
      "Your final hand: [6, 7, 3], Your current score: 16\n",
      " Dealer's final hand: [10, 5, 9], Dealer's current score: 24\n",
      "You win\n"
     ]
    },
    {
     "name": "stdin",
     "output_type": "stream",
     "text": [
      "Type y to play again and n to exit y\n"
     ]
    },
    {
     "name": "stdout",
     "output_type": "stream",
     "text": [
      "Your cards: [10, 7] Your current score: 17\n",
      "Dealer's first card: 2\n"
     ]
    },
    {
     "name": "stdin",
     "output_type": "stream",
     "text": [
      "Type 'y' to get another card or type 'n' to pass. y\n"
     ]
    },
    {
     "name": "stdout",
     "output_type": "stream",
     "text": [
      "Your cards: [10, 7, 9] Current score:26\n",
      "You lost. Its bust\n"
     ]
    },
    {
     "name": "stdin",
     "output_type": "stream",
     "text": [
      "Type y to play again and n to exit y\n"
     ]
    },
    {
     "name": "stdout",
     "output_type": "stream",
     "text": [
      "Your cards: [10, 4] Your current score: 14\n",
      "Dealer's first card: 7\n"
     ]
    },
    {
     "name": "stdin",
     "output_type": "stream",
     "text": [
      "Type 'y' to get another card or type 'n' to pass. y\n"
     ]
    },
    {
     "name": "stdout",
     "output_type": "stream",
     "text": [
      "Your cards: [10, 4, 7] Current score:21\n"
     ]
    },
    {
     "name": "stdin",
     "output_type": "stream",
     "text": [
      "Type 'y' to get another card or type 'n' to pass. n\n"
     ]
    },
    {
     "name": "stdout",
     "output_type": "stream",
     "text": [
      "Your final hand: [10, 4, 7], Your current score: 21\n",
      " Dealer's final hand: [7, 10], Dealer's current score: 17\n",
      "You win!\n"
     ]
    }
   ],
   "source": [
    "#black_jack game of card\n",
    "\n",
    "## The deck is unlimited in size. \n",
    "## There are no jokers. \n",
    "## The Jack/Queen/King all count as 10.\n",
    "## The the Ace can count as 11 or 1.\n",
    "## Use the following list as the deck of cards:\n",
    "## cards = [11, 2, 3, 4, 5, 6, 7, 8, 9, 10, 10, 10, 10]\n",
    "## The cards in the list have equal probability of being drawn.\n",
    "## Cards are not removed from the deck as they are drawn.\n",
    "## The computer is the dealer.\n",
    "\n",
    "##################### Hints #####################\n",
    "\n",
    "#Hint 1: Go to this website and try out the Blackjack game: \n",
    "#   https://games.washingtonpost.com/games/blackjack/\n",
    "#Then try out the completed Blackjack project here: \n",
    "#   https://appbrewery.github.io/python-day11-demo/\n",
    "\n",
    "# Your cards: [2,10], current score: 12\n",
    "# Computer's first card: 4\n",
    "# Type 'y' to get another card, type 'n' to pass: y\n",
    "# Your cards: [2,10,6], current score: 18\n",
    "# Computer's first card: 4\n",
    "# Type 'y' to get another card, type 'n' to pass: n\n",
    "# Your final hand: [2,10,6], final score: 18\n",
    "# Computer's final hand: [4,9,5], final score: 18\n",
    "# Draw\n",
    "# Do you want to play a game of Blackjack? Type 'y' or 'n':\n",
    "\n",
    "# 1. Get two random numbers from a list as a cards for the player and display the sum as count.\n",
    "# 2. Get  random numbers for a dealer till sum is greater than 16 but show only first to player.\n",
    "#    Keep the sum in dealers_count.(here consider the case for ace)\n",
    "# 3. Ask the player either want to pass or hit again.\n",
    "#   3.1  pass=>display the winner by comparing total counts.\n",
    "#           ask if wants to play again and if yes start again if no exit.\n",
    "#   3.2  hit=> get another random number for player and find sum. \n",
    "#              if count exceeds 21 , display player as loser.\n",
    "#              else repeat from 3.\n",
    "\n",
    "import random\n",
    "cards = [11, 2, 3, 4, 5, 6, 7, 8, 9, 10, 10, 10, 10]\n",
    "\n",
    "\n",
    "def count(list_for_count):\n",
    "    '''returns total count of list, receives list'''\n",
    "    total_count=0\n",
    "    for cards in list_for_count:\n",
    "        total_count+=cards\n",
    "    return total_count\n",
    "\n",
    "\n",
    "\n",
    "def play():\n",
    "    dealers_cards=[]\n",
    "    while count(dealers_cards)<17:\n",
    "        dealers_card=random.choice(cards)\n",
    "        if dealers_card==11 and (dealers_card + count(dealers_cards))>21:\n",
    "            dealers_card=1\n",
    "        dealers_cards.append(dealers_card)\n",
    "\n",
    "    players_cards=[]\n",
    "    players_cards.append(random.choice(cards))\n",
    "    players_cards.append(random.choice(cards))\n",
    "\n",
    "    print(f\"Your cards: {players_cards} Your current score: {count(players_cards)}\")\n",
    "    print(f\"Dealer's first card: {dealers_cards[0]}\")\n",
    "\n",
    "\n",
    "    another_draw=True\n",
    "    while another_draw:\n",
    "        players_choice=input(\"Type 'y' to get another card or type 'n' to pass.\").lower()\n",
    "        if players_choice==\"n\":\n",
    "            print(f\"Your final hand: {players_cards}, Your current score: {count(players_cards)}\\n Dealer's final hand: {dealers_cards}, Dealer's current score: {count(dealers_cards)}\")\n",
    "            if count(dealers_cards)>21:\n",
    "                print(\"You win\")\n",
    "            elif count(players_cards)>count(dealers_cards):\n",
    "                print(\"You win!\")\n",
    "            elif count(players_cards)<count(dealers_cards):\n",
    "                print(\"You lose!\")\n",
    "            else:\n",
    "                print(\"Draw\")\n",
    "            another_draw=False\n",
    "        else:\n",
    "            players_cards.append(random.choice(cards))\n",
    "            print(f\"Your cards: {players_cards} Current score:{count(players_cards)}\")\n",
    "            if count(players_cards)>21:\n",
    "                print(\"You lost. Its bust\")\n",
    "                another_draw=False\n",
    "    if another_draw==False:\n",
    "        play_again=input(\"Type y to play again and n to exit\")\n",
    "        if play_again==\"y\":\n",
    "            play()\n",
    "        \n",
    "play()\n",
    "        \n",
    "    \n"
   ]
  },
  {
   "cell_type": "code",
   "execution_count": null,
   "id": "271551d9-6e3f-4a86-9f6e-89169d201242",
   "metadata": {},
   "outputs": [
    {
     "name": "stdin",
     "output_type": "stream",
     "text": [
      "Do you want to play a game of Blackjack? Type 'y' or 'n':  y\n"
     ]
    },
    {
     "name": "stdout",
     "output_type": "stream",
     "text": [
      "\n",
      ".------.            _     _            _    _            _    \n",
      "|A_  _ |.          | |   | |          | |  (_)          | |   \n",
      "|( \\/ ).-----.     | |__ | | __ _  ___| | ___  __ _  ___| | __\n",
      "| \\  /|K /\\  |     | '_ \\| |/ _` |/ __| |/ / |/ _` |/ __| |/ /\n",
      "|  \\/ | /  \\ |     | |_) | | (_| | (__|   <| | (_| | (__|   < \n",
      "`-----| \\  / |     |_.__/|_|\\__,_|\\___|_|\\_\\ |\\__,_|\\___|_|\\_\\\n",
      "      |  \\/ K|                            _/ |                \n",
      "      `------'                           |__/           \n",
      "\n",
      "   Your cards: [11, 10], current score: 0\n",
      "   Computer's first card: 11\n",
      "   Your final hand: [11, 10], final score: 0\n",
      "   Computer's final hand: [11, 7], final score: 18\n",
      "Win with a Blackjack 😎\n"
     ]
    }
   ],
   "source": [
    "############### Blackjack Project #####################\n",
    "\n",
    "#Difficulty Normal 😎: Use all Hints below to complete the project.\n",
    "#Difficulty Hard 🤔: Use only Hints 1, 2, 3 to complete the project.\n",
    "#Difficulty Extra Hard 😭: Only use Hints 1 & 2 to complete the project.\n",
    "#Difficulty Expert 🤯: Only use Hint 1 to complete the project.\n",
    "\n",
    "############### Our Blackjack House Rules #####################\n",
    "\n",
    "## The deck is unlimited in size. \n",
    "## There are no jokers. \n",
    "## The Jack/Queen/King all count as 10.\n",
    "## The the Ace can count as 11 or 1.\n",
    "## Use the following list as the deck of cards:\n",
    "## cards = [11, 2, 3, 4, 5, 6, 7, 8, 9, 10, 10, 10, 10]\n",
    "## The cards in the list have equal probability of being drawn.\n",
    "## Cards are not removed from the deck as they are drawn.\n",
    "\n",
    "##################### Hints #####################\n",
    "\n",
    "#Hint 1: Go to this website and try out the Blackjack game: \n",
    "#   https://games.washingtonpost.com/games/blackjack/\n",
    "#Then try out the completed Blackjack project here: \n",
    "#   https://appbrewery.github.io/python-day11-demo/\n",
    "\n",
    "#Hint 2: Read this breakdown of program requirements: \n",
    "#   http://listmoz.com/view/6h34DJpvJBFVRlZfJvxF\n",
    "#Then try to create your own flowchart for the program.\n",
    "\n",
    "#Hint 3: Download and read this flow chart I've created: \n",
    "#   https://drive.google.com/uc?export=download&id=1rDkiHCrhaf9eX7u7yjM1qwSuyEk-rPnt\n",
    "\n",
    "#Hint 4: Create a deal_card() function that uses the List below to *return* a random card.\n",
    "#11 is the Ace.\n",
    "import random\n",
    "#from replit import clear\n",
    "#from art import logo\n",
    "logo = \"\"\"\n",
    ".------.            _     _            _    _            _    \n",
    "|A_  _ |.          | |   | |          | |  (_)          | |   \n",
    "|( \\/ ).-----.     | |__ | | __ _  ___| | ___  __ _  ___| | __\n",
    "| \\  /|K /\\  |     | '_ \\| |/ _` |/ __| |/ / |/ _` |/ __| |/ /\n",
    "|  \\/ | /  \\ |     | |_) | | (_| | (__|   <| | (_| | (__|   < \n",
    "`-----| \\  / |     |_.__/|_|\\__,_|\\___|_|\\_\\ |\\__,_|\\___|_|\\_\\\\\n",
    "      |  \\/ K|                            _/ |                \n",
    "      `------'                           |__/           \n",
    "\"\"\"\n",
    "\n",
    "def deal_card():\n",
    "    \"\"\"Returns a random card from the deck.\"\"\"\n",
    "    cards = [11, 2, 3, 4, 5, 6, 7, 8, 9, 10, 10, 10, 10]\n",
    "    card = random.choice(cards)\n",
    "    return card\n",
    "\n",
    "#Hint 6: Create a function called calculate_score() that takes a List of cards as input \n",
    "#and returns the score. \n",
    "#Look up the sum() function to help you do this.\n",
    "def calculate_score(cards):\n",
    "    \"\"\"Take a list of cards and return the score calculated from the cards\"\"\"\n",
    "\n",
    "    #Hint 7: Inside calculate_score() check for a blackjack (a hand with only 2 cards: ace + 10) and return 0 instead of the actual score. 0 will represent a blackjack in our game.\n",
    "    if sum(cards) == 21 and len(cards) == 2:\n",
    "        return 0\n",
    "  #Hint 8: Inside calculate_score() check for an 11 (ace). If the score is already over 21, remove the 11 and replace it with a 1. You might need to look up append() and remove().\n",
    "    if 11 in cards and sum(cards) > 21:\n",
    "        cards.remove(11)\n",
    "        cards.append(1)\n",
    "    return sum(cards)\n",
    "\n",
    "#Hint 13: Create a function called compare() and pass in the user_score and computer_score. If the computer and user both have the same score, then it's a draw. If the computer has a blackjack (0), then the user loses. If the user has a blackjack (0), then the user wins. If the user_score is over 21, then the user loses. If the computer_score is over 21, then the computer loses. If none of the above, then the player with the highest score wins.\n",
    "def compare(user_score, computer_score):\n",
    "  #Bug fix. If you and the computer are both over, you lose.\n",
    "    if user_score > 21 and computer_score > 21:\n",
    "        return \"You went over. You lose 😤\"\n",
    "\n",
    "\n",
    "    if user_score == computer_score:\n",
    "        return \"Draw 🙃\"\n",
    "    elif computer_score == 0:\n",
    "        return \"Lose, opponent has Blackjack 😱\"\n",
    "    elif user_score == 0:\n",
    "        return \"Win with a Blackjack 😎\"\n",
    "    elif user_score > 21:\n",
    "        return \"You went over. You lose 😭\"\n",
    "    elif computer_score > 21:\n",
    "        return \"Opponent went over. You win 😁\"\n",
    "    elif user_score > computer_score:\n",
    "        return \"You win 😃\"\n",
    "    else:\n",
    "        return \"You lose 😤\"\n",
    "\n",
    "def play_game():\n",
    "\n",
    "    print(logo)\n",
    "\n",
    "  #Hint 5: Deal the user and computer 2 cards each using deal_card()\n",
    "    user_cards = []\n",
    "    computer_cards = []\n",
    "    is_game_over = False\n",
    "\n",
    "    for _ in range(2):\n",
    "        user_cards.append(deal_card())\n",
    "        computer_cards.append(deal_card())\n",
    "\n",
    "  #Hint 11: The score will need to be rechecked with every new card drawn and the checks in Hint 9 need to be repeated until the game ends.\n",
    "\n",
    "    while not is_game_over:\n",
    "    #Hint 9: Call calculate_score(). If the computer or the user has a blackjack (0) or if the user's score is over 21, then the game ends.\n",
    "        user_score = calculate_score(user_cards)\n",
    "        computer_score = calculate_score(computer_cards)\n",
    "        print(f\"   Your cards: {user_cards}, current score: {user_score}\")\n",
    "        print(f\"   Computer's first card: {computer_cards[0]}\")\n",
    "\n",
    "        if user_score == 0 or computer_score == 0 or user_score > 21:\n",
    "            is_game_over = True\n",
    "        else:\n",
    "          #Hint 10: If the game has not ended, ask the user if they want to draw another card. If yes, then use the deal_card() function to add another card to the user_cards List. If no, then the game has ended.\n",
    "            user_should_deal = input(\"Type 'y' to get another card, type 'n' to pass: \")\n",
    "            if user_should_deal == \"y\":\n",
    "                user_cards.append(deal_card())\n",
    "            else:\n",
    "                is_game_over = True\n",
    "\n",
    "  #Hint 12: Once the user is done, it's time to let the computer play. The computer should keep drawing cards as long as it has a score less than 17.\n",
    "    while computer_score != 0 and computer_score < 17:\n",
    "        computer_cards.append(deal_card())\n",
    "        computer_score = calculate_score(computer_cards)\n",
    "\n",
    "    print(f\"   Your final hand: {user_cards}, final score: {user_score}\")\n",
    "    print(f\"   Computer's final hand: {computer_cards}, final score: {computer_score}\")\n",
    "    print(compare(user_score, computer_score))\n",
    "\n",
    "#Hint 14: Ask the user if they want to restart the game. If they answer yes, clear the console and start a new game of blackjack and show the logo from art.py.\n",
    "while input(\"Do you want to play a game of Blackjack? Type 'y' or 'n': \") == \"y\":\n",
    "    #clear()\n",
    "    play_game()\n"
   ]
  },
  {
   "cell_type": "code",
   "execution_count": null,
   "id": "2c55fb16-772c-45b8-9af6-02a471e77f16",
   "metadata": {},
   "outputs": [],
   "source": []
  }
 ],
 "metadata": {
  "kernelspec": {
   "display_name": "Python 3 (ipykernel)",
   "language": "python",
   "name": "python3"
  },
  "language_info": {
   "codemirror_mode": {
    "name": "ipython",
    "version": 3
   },
   "file_extension": ".py",
   "mimetype": "text/x-python",
   "name": "python",
   "nbconvert_exporter": "python",
   "pygments_lexer": "ipython3",
   "version": "3.11.5"
  }
 },
 "nbformat": 4,
 "nbformat_minor": 5
}
